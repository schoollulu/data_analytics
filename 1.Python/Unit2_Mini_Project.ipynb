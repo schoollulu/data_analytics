{
  "nbformat": 4,
  "nbformat_minor": 0,
  "metadata": {
    "colab": {
      "name": "1_Mini Project.ipynb",
      "provenance": [],
      "collapsed_sections": []
    },
    "kernelspec": {
      "name": "python3",
      "display_name": "Python 3"
    }
  },
  "cells": [
    {
      "cell_type": "code",
      "metadata": {
        "id": "86NcA50fJwwR"
      },
      "source": [
        "# Ask the user for a number. \n",
        "# Depending on whether the number is even or odd, print out an appropriate message to the user. \n",
        "# Bonus: If the number is a multiple of 4, print out a different message.\n",
        "\n",
        "number = int(input(\"Hmmmm.. will it be even or odd ?\\n\"))\n",
        "if number % 2 == 0 and number % 4 == 0:\n",
        "    print(\"Your number is even and divisible by 4.\")\n",
        "elif number % 2 == 0:\n",
        "    print(\"Yay! Your number is even.\")\n",
        "else:\n",
        "    print(\"Your number is just odd.\")"
      ],
      "execution_count": null,
      "outputs": []
    },
    {
      "cell_type": "code",
      "metadata": {
        "id": "N3H24euDQrUw"
      },
      "source": [
        "# Ask the user for two numbers: one number to check (call it num) and one number to divide by (check). \n",
        "# If check divides evenly into num, tell that to the user. If not, print a different appropriate message.\n",
        "\n",
        "num = int(input(\"Enter a number: \\n\"))\n",
        "check = int(input(\"Enter a number to divide by: \\n\"))\n",
        "if num % check == 0:\n",
        "    print(\"Congratulations! No leftovers.\")\n",
        "else:\n",
        "    print(\"Uh no, \" + str(num) + ' is not divisible by ' + str(check) + \".\")"
      ],
      "execution_count": null,
      "outputs": []
    },
    {
      "cell_type": "code",
      "metadata": {
        "id": "09bl3JDkXWnW"
      },
      "source": [
        "# Write another custom function for finding whether the number is even or odd.\n",
        "\n",
        "another = int(input(\"Enter a number: \"))\n",
        "lastdigitck = another % 10\n",
        "if lastdigitck in [2,4,6,8,0]:\n",
        "  print(\"This is an even number.\")\n",
        "else:\n",
        "  print(\"This is an odd number.\")"
      ],
      "execution_count": null,
      "outputs": []
    }
  ]
}